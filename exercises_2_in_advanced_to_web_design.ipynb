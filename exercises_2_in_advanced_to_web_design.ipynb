{
  "nbformat": 4,
  "nbformat_minor": 0,
  "metadata": {
    "colab": {
      "provenance": []
    },
    "kernelspec": {
      "name": "python3",
      "display_name": "Python 3"
    },
    "language_info": {
      "name": "python"
    }
  },
  "cells": [
    {
      "cell_type": "code",
      "execution_count": 1,
      "metadata": {
        "colab": {
          "base_uri": "https://localhost:8080/"
        },
        "id": "6KbXIIlyjNCK",
        "outputId": "4cf158eb-fa6e-40c9-baef-33c9323eeb22"
      },
      "outputs": [
        {
          "output_type": "stream",
          "name": "stdout",
          "text": [
            "['ALEX', 'Claude', 'HASINGIZWIMANA', 'John', 'Peter', 'kagetera', 'university of Kigali']\n"
          ]
        }
      ],
      "source": [
        "names= [\"kagetera\",\"John\",\"Peter\",\"ALEX\",\"Claude\"]\n",
        "names.append(\"HASINGIZWIMANA\")\n",
        "names.append(\"university \")\n",
        "names.sort()\n",
        "print(names)"
      ]
    },
    {
      "cell_type": "code",
      "source": [
        "\n",
        "prices = {\"Apple\": 1000, \"Banana\": 500, \"Mango\": 1200}\n",
        "print(\"Fruit Prices:\")\n",
        "for fruit, price in prices.items():\n",
        "    print(f\"{fruit}: {price} per kg\")\n",
        "total_cost = 0\n",
        "for price in prices.values():\n",
        "    total_cost += price * 2\n",
        "\n",
        "print(\"\\nTotal cost for buying 2 kg of each fruit:\", total_cost)\n"
      ],
      "metadata": {
        "colab": {
          "base_uri": "https://localhost:8080/"
        },
        "id": "4UWjrYcsr2D1",
        "outputId": "176e101a-c238-406a-ae91-77b9d4e5cfd4"
      },
      "execution_count": 3,
      "outputs": [
        {
          "output_type": "stream",
          "name": "stdout",
          "text": [
            "Fruit Prices:\n",
            "Apple: 1000 per kg\n",
            "Banana: 500 per kg\n",
            "Mango: 1200 per kg\n",
            "\n",
            "Total cost for buying 2 kg of each fruit: 5400\n"
          ]
        }
      ]
    }
  ]
}